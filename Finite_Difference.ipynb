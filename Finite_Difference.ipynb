{
 "cells": [
  {
   "cell_type": "code",
   "execution_count": null,
   "metadata": {},
   "outputs": [],
   "source": [
    "import numpy as np\n",
    "import matplotlib.pyplot as plt\n",
    "from scipy.sparse import linalg, diags\n",
    "from scipy import integrate\n",
    "from scipy.stats import norm\n",
    "\n",
    "# list of parameters\n",
    "dt = 0.01\n",
    "dS = 1\n",
    "S_low, S_high = 50, 55\n",
    "step_no = int((S_high - S_low)/dS -1)\n",
    "time_no = int((end_time - start_time)/dt + 1)\n",
    "start_time, end_time = 0,1\n",
    "strike_price = 52\n",
    "\n",
    "\n",
    "def int_rate(t):\n",
    "    return 0.05\n",
    "\n",
    "def div_rate(t):\n",
    "    return 0.01\n",
    "\n",
    "def volatility(asset, t):\n",
    "    return 0.2\n",
    "\n",
    "X,Y = np.meshgrid(np.arange(S_low+dS, S_high, dS), np.arange(start_time, end_time+dt, dt))\n",
    "\n",
    "def integ(func, arr): #expected arr entries are of the form: np.arange(start_time, end_time, timestep)\n",
    "    arr = np.flip(arr, 0) # flip to count form back to front\n",
    "    out_list = []\n",
    "    for i in range(1,len(arr)):\n",
    "        increment = arr[i-1] - arr[i]\n",
    "        to_add = increment * func((arr[i-1]+ arr[i])/2)\n",
    "        out_list.append(to_add)\n",
    "    out_arr = np.array([0] + out_list)\n",
    "    return np.cumsum(out_arr)[::-1]\n",
    "\n",
    "def payoff(asset):\n",
    "    return np.clip(asset-strike_price, 0, None)\n",
    "\n",
    "integ(lambda x: x**2, np.arange(0,5,1))\n",
    "# norm.cdf(np.arange(1, 0, -0.1))- integ(norm.ppf, np.arange(0,1,0.1))"
   ]
  },
  {
   "cell_type": "code",
   "execution_count": null,
   "metadata": {},
   "outputs": [],
   "source": [
    "def second_order_coeff(asset, t):\n",
    "    return (asset * volatility(asset, t)) ** 2/2\n",
    "\n",
    "def first_order_coeff(asset, t):\n",
    "    return (int_rate(t) - div_rate(t)) * asset\n",
    "\n",
    "def zero_order_coeff(asset, t):\n",
    "    return -int_rate(t)\n",
    "\n",
    "v1 = dt/dS\n",
    "v2 = dt/dS\n",
    "\n",
    "a, b, c = second_order_coeff(X,Y), first_order_coeff(X, Y), zero_order_coeff(X, Y)\n",
    "A = v1 * a/2  - v2 * b/4\n",
    "B = -v1 *a + dt * c/2\n",
    "C = v1 * a/2 + v2 * b/4   # all these start from S_1, 0 and end at S_{M-1} , T\n",
    "A_1, C_M = A[:,0], C[:,-1]\n",
    "lower_bdd, upper_bdd = strike_price * np.exp(- integ(int_rate, np.arange(start_time, end_time+dt, dt))), np.zeros(time_no)\n",
    "# lower_bdd and Upper_bdd counted FROM BACKWARDS\n"
   ]
  },
  {
   "cell_type": "code",
   "execution_count": null,
   "metadata": {},
   "outputs": [],
   "source": [
    "def boundary_addon(t, case = 'Dirichlet'):\n",
    "    # just for call-option\n",
    "    time_idx = ((t - start_time)/dt).astype(int)\n",
    "    if case == 'Dirichlet':\n",
    "        \n",
    "        \n",
    "        \n",
    "        \n",
    "#         lower_bdd = np.zeros(len(time_set))\n",
    "#         upper_bdd = S_high * np.exp(-integ(div_rate, time_set)) \\\n",
    "#             - strike_price * np.exp (- integ(int_rate, time_set))\n",
    "#     else:\n",
    "#         lower_bdd = -S_low * np.exp(-integ(div_rate, time_set)) \\\n",
    "#             + strike_price * np.exp (- integ(int_rate, time_set))\n",
    "#         upper_bdd = np.zeros(len(time_set))\n",
    "#     return lower_bdd, upper_bdd\n"
   ]
  },
  {
   "cell_type": "code",
   "execution_count": null,
   "metadata": {},
   "outputs": [],
   "source": [
    "def pricing_operator(t, bdd = 'Dirichlet'):\n",
    "    time_loc = int((t - start_time)/dt)\n",
    "    base_matrix = diags([A[time_loc],B[time_loc], C[time_loc]], [0,1,2], shape = (step_no, step_no+2))\n",
    "    off_diag = diags([1], [1], shape = (step_no, step_no+2))\n",
    "    if bdd == 'Dirichlet':\n",
    "        matrix_left =  base_matrix + off_diag\n",
    "        matrix_right = -base_matrix/2 + off_diag\n",
    "    elif bdd == 'Neumann': \n",
    "        pass\n",
    "    else:\n",
    "        raise Exception('Unknown boundary condition')\n",
    "    return matrix_left.tocsr(), matrix_right.tocsr()"
   ]
  },
  {
   "cell_type": "code",
   "execution_count": null,
   "metadata": {},
   "outputs": [],
   "source": [
    "def option_price(asset, plot = False):\n",
    "    outlayer = payoff(asset)[1:-1]\n",
    "#     bdd_value = boundary(np.arange(0, end_time-start_time, dt))\n",
    "    \"\"\"the following is not fully optimised. \n",
    "    But as that is not related to linear system, we can ignore it (partially)\"\"\"\n",
    "    for time in range(time_no+1):\n",
    "        matrix_left, matrix_right = pricing_operator((time_no - time) * dt)[0], \\\n",
    "                    pricing_operator((time_no - time) * dt)[1]\n",
    "        extra_vec =  # figure out what the heck this is\n",
    "        \n",
    "        outlayer = (matrix_right[:,1:-1] @ outlayer + bdd_value[0][time+1] * matrix_right[:,0].T \\\n",
    "                    + bdd_value[1][time+1] * matrix_right[:,-1].T + bdd_value[0][time] * matrix_left[:,0].T\\\n",
    "                    + bdd_value[1][time] * matrix_left[:,-1].T).A1\n",
    "    return np.hstack(([0], outlayer))"
   ]
  },
  {
   "cell_type": "code",
   "execution_count": null,
   "metadata": {},
   "outputs": [],
   "source": [
    "def BS_tester(asset, T=1, vol=0.2, r=0.05, D=0.01, K=100):\n",
    "    moneyness = np.log(asset / K)\n",
    "    d1 = (moneyness +(r-D + vol**2/2)*T)/(vol * np.sqrt(T))\n",
    "    d2 = d1 - vol * np.sqrt(T)\n",
    "    return asset * np.exp(-D*T)*norm.cdf(d1) - K * np.exp(-r*T)*norm.cdf(d2)\n",
    "\n",
    "def plot(base_arr, *func):\n",
    "    fig = plt.figure(figsize=(16, 8))\n",
    "    ax = fig.add_subplot(111)\n",
    "    plt.xlabel('asset value')\n",
    "    plt.ylabel('option price')\n",
    "    for f in func:\n",
    "        ax.plot(base_arr, f(base_arr), '-o', label = f.__name__)\n",
    "    ax.legend(loc ='best')\n",
    "    plt.show()"
   ]
  },
  {
   "cell_type": "code",
   "execution_count": null,
   "metadata": {},
   "outputs": [],
   "source": [
    "fig = plt.figure(figsize=(16, 8))\n",
    "asset = np.arange(50, 55, 1)\n",
    "plot(asset, BS_tester, option_price)\n"
   ]
  },
  {
   "cell_type": "code",
   "execution_count": null,
   "metadata": {},
   "outputs": [],
   "source": [
    "option_price(asset).shape, BS_tester(asset).shape"
   ]
  },
  {
   "cell_type": "code",
   "execution_count": null,
   "metadata": {},
   "outputs": [],
   "source": [
    "add new staff"
   ]
  }
 ],
 "metadata": {
  "kernelspec": {
   "display_name": "Python 3",
   "language": "python",
   "name": "python3"
  },
  "language_info": {
   "codemirror_mode": {
    "name": "ipython",
    "version": 3
   },
   "file_extension": ".py",
   "mimetype": "text/x-python",
   "name": "python",
   "nbconvert_exporter": "python",
   "pygments_lexer": "ipython3",
   "version": "3.6.5"
  }
 },
 "nbformat": 4,
 "nbformat_minor": 2
}
