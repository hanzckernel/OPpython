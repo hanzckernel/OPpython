{
 "cells": [
  {
   "cell_type": "code",
   "execution_count": 1,
   "metadata": {},
   "outputs": [],
   "source": [
    "import numpy as np\n",
    "import matplotlib.pyplot as plt\n",
    "from matplotlib import cm\n",
    "from scipy.sparse import linalg, diags, csc_matrix, csr_matrix\n",
    "from scipy import integrate\n",
    "from scipy.stats import norm\n",
    "\n",
    "# list of parameters\n",
    "dt = 0.001\n",
    "dS = 10\n",
    "S_low, S_high = 30, 100\n",
    "start_time, end_time = 0, 1\n",
    "strike_price = 60\n",
    "time_samples = np.arange(start_time, end_time+dt, dt)\n",
    "asset_samples = np.arange(S_low+dS, S_high, dS)\n",
    "time_no = time_samples.size\n",
    "step_no = asset_samples.size\n",
    "\n",
    "int_rate = lambda time: 0.05\n",
    "div_rate = lambda time: 0\n",
    "volatility = lambda asset, time: 0.2\n",
    "# int_rate, div_rate, volatility = np.vectorize(int_rate), np.vectorize(div_rate), np.vectorize(volatility)\n",
    "\n",
    "X,Y = np.meshgrid(asset_samples, time_samples)\n",
    "\n",
    "def back_quad(func, arr):\n",
    "    '''Receive a range of points and evaluate the area below graph from backwards'''\n",
    "    arr = np.flip(arr, 0) # flip to count form back to front\n",
    "    out_list = []\n",
    "    for i in range(1,len(arr)):\n",
    "        increment = arr[i-1] - arr[i]\n",
    "        to_add = increment * func((arr[i-1]+ arr[i])/2)\n",
    "        out_list.append(to_add)\n",
    "    out_arr = np.array([0] + out_list)\n",
    "    return np.cumsum(out_arr)\n",
    "\n",
    "def payoff(asset):\n",
    "    return np.clip(asset - strike_price, 0, None)"
   ]
  },
  {
   "cell_type": "code",
   "execution_count": 2,
   "metadata": {},
   "outputs": [
    {
     "data": {
      "text/plain": [
       "(1e-05, 0.0001)"
      ]
     },
     "execution_count": 2,
     "metadata": {},
     "output_type": "execute_result"
    }
   ],
   "source": [
    "@np.vectorize\n",
    "def second_order_coeff(asset, t):\n",
    "    return (volatility(asset, t) * asset)** 2/2\n",
    "\n",
    "@np.vectorize\n",
    "def first_order_coeff(asset, t):\n",
    "    return (int_rate(t) - div_rate(t))* asset\n",
    "\n",
    "@np.vectorize\n",
    "def zero_order_coeff(asset, t):\n",
    "    return -int_rate(t)\n",
    "\n",
    "v1 = dt/(dS**2)\n",
    "v2 = dt/dS\n"
   ]
  },
  {
   "cell_type": "code",
   "execution_count": 3,
   "metadata": {},
   "outputs": [
    {
     "data": {
      "text/plain": [
       "'This is a test block'"
      ]
     },
     "execution_count": 3,
     "metadata": {},
     "output_type": "execute_result"
    }
   ],
   "source": [
    "a, b, c = second_order_coeff(X,Y).T, first_order_coeff(X, Y).T, zero_order_coeff(X, Y).T\n",
    "A = v1 * a/2  - v2 * b/4\n",
    "B = -v1 * a + dt * c/2\n",
    "C = v1 * a/2 + v2 * b/4\n",
    "\n",
    "   # all these start from S_1, 0 and end at S_{M-1} , T\n",
    "\n",
    "'''This is a test block'''\n",
    "A_first, C_last = A[0], C[-1]\n",
    "\n",
    "lower = np.zeros(time_no) \n",
    "upper = S_high - strike_price * np.exp(- 0.05 *(end_time-time_samples))\n",
    "# lower_bdd and Upper_bdd \n",
    "lower_bdd = lower * A_first\n",
    "upper_bdd = upper * C_last\n",
    "'''This is a test block'''"
   ]
  },
  {
   "cell_type": "code",
   "execution_count": 4,
   "metadata": {},
   "outputs": [],
   "source": [
    "def pricing_operator(t, bdd = 'Dirichlet'):\n",
    "    time_loc = round((t - start_time)/dt)\n",
    "    base_matrix = diags([A[:,time_loc], B[:,time_loc], C[:,time_loc]], [0,1,2], shape = (step_no, step_no+2))\n",
    "    off_diag = diags([1], [1], shape = (step_no, step_no+2))\n",
    "    if bdd == 'Dirichlet':\n",
    "        matrix_left =  -base_matrix + off_diag\n",
    "        matrix_right = base_matrix + off_diag\n",
    "    elif bdd == 'Neumann': \n",
    "        pass\n",
    "    else:\n",
    "        raise Exception('Unknown boundary condition')\n",
    "    return matrix_left.A, matrix_right.A\n",
    "\n",
    "\n",
    "def option_price(asset):\n",
    "    outlayer = payoff(asset)\n",
    "    total_output = outlayer\n",
    "    \"\"\"the following is not fully optimised. \n",
    "    But as that is not related to linear system, we can ignore it (partially)\"\"\"\n",
    "    for time_pt in range(1, time_no):\n",
    "        time = end_time - time_pt * dt #time stands for the time TO BE CALCULATED\n",
    "        matrix_left, matrix_right = pricing_operator(time)[0], pricing_operator(time+dt)[1]\n",
    "        mat_left, mat_right = matrix_left[:, 1:-1], matrix_right[:, 1:-1]\n",
    "        \"\"\"Note here extra_vec is subject to Z_2-error\"\"\"\n",
    "        extra_vec = np.zeros(step_no)\n",
    "        extra_vec[[0,-1]] = lower_bdd[-time_pt] + lower_bdd[-time_pt-1],\\\n",
    "                                upper_bdd[-time_pt] + upper_bdd[-time_pt-1]\n",
    "        outlayer = np.linalg.solve(mat_left, mat_right @ outlayer + extra_vec)\n",
    "        total_output = np.vstack((total_output, outlayer))\n",
    "    return total_output\n",
    "\n",
    "\n",
    "def option_price_begin(asset):\n",
    "    return option_price(asset)[-1]\n"
   ]
  },
  {
   "cell_type": "code",
   "execution_count": null,
   "metadata": {},
   "outputs": [],
   "source": [
    "'''all the boundary_condition will be initiated after testing'''\n",
    "\n",
    "def boundary(option = 'call', barrier = False):\n",
    "    if barrier and option == 'call':\n",
    "        lower_bdd = np.zeros(time_no)\n",
    "        upper_bdd = -strike_price * np.exp(-back_quad(int_rate, time_samples))\\\n",
    "                        + S_high * np.exp(-back_quad(div_rate, time_samples))\n",
    "    if barrier and option == 'put':\n",
    "        lower_bdd = -S_low * np.exp(-back_quad(div_rate, time_samples)) + \\\n",
    "            strike_price * np.exp(-back_quad(int_rate, time_samples))\n",
    "        upper_bdd = np.zeros(time_no)\n",
    "    else:\n",
    "        raise Exception('Unknown option type')"
   ]
  }
 ],
 "metadata": {
  "kernelspec": {
   "display_name": "Python 3",
   "language": "python",
   "name": "python3"
  },
  "language_info": {
   "codemirror_mode": {
    "name": "ipython",
    "version": 3
   },
   "file_extension": ".py",
   "mimetype": "text/x-python",
   "name": "python",
   "nbconvert_exporter": "python",
   "pygments_lexer": "ipython3",
   "version": "3.7.3"
  }
 },
 "nbformat": 4,
 "nbformat_minor": 2
}
